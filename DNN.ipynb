{
  "nbformat": 4,
  "nbformat_minor": 0,
  "metadata": {
    "colab": {
      "name": "DNN.ipynb",
      "version": "0.3.2",
      "provenance": [],
      "collapsed_sections": [],
      "include_colab_link": true
    },
    "kernelspec": {
      "name": "python3",
      "display_name": "Python 3"
    }
  },
  "cells": [
    {
      "cell_type": "markdown",
      "metadata": {
        "id": "view-in-github",
        "colab_type": "text"
      },
      "source": [
        "<a href=\"https://colab.research.google.com/github/farhadrgh/machine-learning/blob/master/DNN.ipynb\" target=\"_parent\"><img src=\"https://colab.research.google.com/assets/colab-badge.svg\" alt=\"Open In Colab\"/></a>"
      ]
    },
    {
      "metadata": {
        "id": "hgbLB2nXFIKn",
        "colab_type": "code",
        "colab": {}
      },
      "cell_type": "code",
      "source": [
        "import numpy as np \n",
        "import random "
      ],
      "execution_count": 0,
      "outputs": []
    },
    {
      "metadata": {
        "id": "1_wh2_k-FAFf",
        "colab_type": "text"
      },
      "cell_type": "markdown",
      "source": [
        "Defining helper and activation functions"
      ]
    },
    {
      "metadata": {
        "id": "C7ACkSIsFWjG",
        "colab_type": "code",
        "outputId": "669755b6-f336-436f-e65c-2d630d4fb5af",
        "colab": {
          "base_uri": "https://localhost:8080/",
          "height": 53
        }
      },
      "cell_type": "code",
      "source": [
        "def sigmoid(x):\n",
        "  return 1.0/(1.0 + np.exp(-1*x))\n",
        "              \n",
        "def sigmoid_prime(x):\n",
        "  return sigmoid(x)*(1.0 - sigmoid(x))\n",
        "\n",
        "\n",
        "def xavier_init(n_input, n_hidden):\n",
        "  # initializing the weights\n",
        "  return np.random.randn(n_input, n_hidden) * np.sqrt(2.0/n_input)\n",
        "\n",
        "xavier_init(2,2)"
      ],
      "execution_count": 0,
      "outputs": [
        {
          "output_type": "execute_result",
          "data": {
            "text/plain": [
              "array([[ 0.81904647, -1.27285769],\n",
              "       [-0.91458471, -2.0299005 ]])"
            ]
          },
          "metadata": {
            "tags": []
          },
          "execution_count": 3
        }
      ]
    },
    {
      "metadata": {
        "id": "v334TG6MOeYm",
        "colab_type": "code",
        "outputId": "0fb98b7c-7c9d-44e7-d62d-6186f06e04e7",
        "colab": {
          "base_uri": "https://localhost:8080/",
          "height": 287
        }
      },
      "cell_type": "code",
      "source": [
        "class farhad_nnet():\n",
        "  def __init__(self,dims=[2,2,2,1]):\n",
        "    \n",
        "    n_input = 2\n",
        "    n_hidden1 = 2\n",
        "    n_hidden2 = 2\n",
        "    n_output = 1\n",
        "\n",
        "    w1 = xavier_init(n_input, n_hidden1)\n",
        "    w2 = xavier_init(n_hidden1, n_hidden2)\n",
        "    w3 = xavier_init(n_hidden2, n_output)\n",
        "    \n",
        "    self.weights = [w1, w2, w3]\n",
        "\n",
        "    b1 = np.random.randn(1, n_hidden1)\n",
        "    b2 = np.random.randn(1, n_hidden2)\n",
        "    b3 = np.random.randn(1, n_output)\n",
        "\n",
        "    self.biases = [b1, b2, b3]\n",
        "    \n",
        "  def forward(self, features):\n",
        "    h1 = sigmoid(np.matmul(features, self.weights[0]) + self.biases[0])\n",
        "    h2 = sigmoid(np.matmul(h1, self.weights[1]) + self.biases[1])\n",
        "    output = sigmoid(np.matmul(h2, self.weights[2]) + self.biases[2])\n",
        "    return [h1, h2, output]\n",
        "  \n",
        "  def backprob(self, y, outputs):\n",
        "    print(y-outputs[-1])\n",
        "    \n",
        "    deltas=[(y - outputs[-1]) * sigmoid_prime(outputs[-1])]\n",
        "    for i in range(len(self.weights)-2, -1, -1):\n",
        "      deltas.append(deltas[-1].dot((self.weights[i+1].T)*sigmoid_prime(outputs[i])))\n",
        "    return deltas[::-1]\n",
        "  \n",
        "  def update(self, learning_rate, deltas, outputs):\n",
        "    for i in range(len(self.weights)):\n",
        "      self.weights[i] += learning_rate * (outputs[i].T.dot(deltas[i]))\n",
        "      print(self.weights)\n",
        "      \n",
        "sample = farhad_nnet()\n",
        "\n",
        "sample_in = [1,2]\n",
        "outputs = sample.forward([1,2])\n",
        "print(\"here is the output\", outputs)\n",
        "deltas = sample.backprob(1,outputs)\n",
        "print(deltas)\n",
        "sample.update(0.01, deltas, outputs)"
      ],
      "execution_count": 0,
      "outputs": [
        {
          "output_type": "stream",
          "text": [
            "here is the output [array([[0.40244105, 0.22335091]]), array([[0.82157244, 0.44978013]]), array([[0.26694859]])]\n",
            "[[0.73305141]]\n",
            "[array([[0.00769895, 0.01242928]]), array([[ 0.00062135, -0.04649023]]), array([[0.18003634]])]\n",
            "[array([[ 1.67315776, -1.18650637],\n",
            "       [-0.89779189,  0.38657497]]), array([[ 0.62537672, -0.68124084],\n",
            "       [-1.12128964, -1.09778876]]), array([[ 0.01626841],\n",
            "       [-1.0860341 ]])]\n",
            "[array([[ 1.67315776, -1.18650637],\n",
            "       [-0.89779189,  0.38657497]]), array([[ 0.62538183, -0.68162279],\n",
            "       [-1.12128684, -1.09799786]]), array([[ 0.01626841],\n",
            "       [-1.0860341 ]])]\n",
            "[array([[ 1.67315776, -1.18650637],\n",
            "       [-0.89779189,  0.38657497]]), array([[ 0.62538183, -0.68162279],\n",
            "       [-1.12128684, -1.09799786]]), array([[ 0.01674901],\n",
            "       [-1.0855535 ]])]\n"
          ],
          "name": "stdout"
        }
      ]
    }
  ]
}